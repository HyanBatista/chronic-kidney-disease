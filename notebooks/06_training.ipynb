{
 "cells": [
  {
   "cell_type": "markdown",
   "metadata": {},
   "source": [
    "# Training"
   ]
  },
  {
   "cell_type": "code",
   "execution_count": 138,
   "metadata": {},
   "outputs": [],
   "source": [
    "import os\n",
    "\n",
    "DATASET_NAME = \"drsprg\"\n",
    "DATA_BASE_DIR = f\"../data/processed/{DATASET_NAME}/\"\n",
    "IMAGES_DIR = os.path.join(DATA_BASE_DIR, \"jpgs/\")\n",
    "LBP_DATASET = os.path.join(DATA_BASE_DIR, \"artifacts/lbp_dataset.pkl\")\n",
    "\n",
    "# Traning related parameters\n",
    "SEED = 42\n",
    "TEST_SIZE = 0.2\n",
    "RS_N_ITER = 40\n",
    "CV = 10"
   ]
  },
  {
   "cell_type": "code",
   "execution_count": 139,
   "metadata": {},
   "outputs": [],
   "source": [
    "import joblib\n",
    "import numpy as np\n",
    "from sklearn.model_selection import train_test_split, RandomizedSearchCV, cross_val_predict\n",
    "from sklearn.preprocessing import StandardScaler\n",
    "from sklearn.metrics import classification_report\n",
    "from sklearn.svm import SVC"
   ]
  },
  {
   "cell_type": "code",
   "execution_count": 140,
   "metadata": {},
   "outputs": [],
   "source": [
    "np.random.seed(SEED)"
   ]
  },
  {
   "cell_type": "markdown",
   "metadata": {},
   "source": [
    "## LBP"
   ]
  },
  {
   "cell_type": "code",
   "execution_count": 141,
   "metadata": {},
   "outputs": [],
   "source": [
    "lbp_dataset = joblib.load(LBP_DATASET)"
   ]
  },
  {
   "cell_type": "code",
   "execution_count": 142,
   "metadata": {},
   "outputs": [],
   "source": [
    "X = np.array([sample[0] for sample in lbp_dataset])\n",
    "y = np.array([sample[1] for sample in lbp_dataset])"
   ]
  },
  {
   "cell_type": "code",
   "execution_count": 143,
   "metadata": {},
   "outputs": [
    {
     "data": {
      "text/plain": [
       "((102, 1620), (102,))"
      ]
     },
     "execution_count": 143,
     "metadata": {},
     "output_type": "execute_result"
    }
   ],
   "source": [
    "X.shape, y.shape"
   ]
  },
  {
   "cell_type": "code",
   "execution_count": 144,
   "metadata": {},
   "outputs": [
    {
     "data": {
      "text/plain": [
       "(81, 21, 81, 21)"
      ]
     },
     "execution_count": 144,
     "metadata": {},
     "output_type": "execute_result"
    }
   ],
   "source": [
    "X_train, X_test, y_train, y_test = train_test_split(X, y, test_size=TEST_SIZE, random_state=SEED, stratify=y)\n",
    "len(X_train), len(X_test), len(y_train), len(y_test)"
   ]
  },
  {
   "cell_type": "code",
   "execution_count": 145,
   "metadata": {},
   "outputs": [],
   "source": [
    "scaler = StandardScaler()\n",
    "X_train_scaled = scaler.fit_transform(X_train)\n",
    "X_test_scaled = scaler.transform(X_test)"
   ]
  },
  {
   "cell_type": "markdown",
   "metadata": {},
   "source": [
    "### SVM"
   ]
  },
  {
   "cell_type": "markdown",
   "metadata": {},
   "source": [
    "#### Radial Basis Function (RBF)"
   ]
  },
  {
   "cell_type": "code",
   "execution_count": 146,
   "metadata": {},
   "outputs": [],
   "source": [
    "svc = SVC()"
   ]
  },
  {
   "cell_type": "code",
   "execution_count": 147,
   "metadata": {},
   "outputs": [
    {
     "name": "stdout",
     "output_type": "stream",
     "text": [
      "Best hyperparameters: {'kernel': 'rbf', 'gamma': 0.01, 'C': 0.09999999999999999}\n",
      "Test set accuracy: 0.7619047619047619\n"
     ]
    }
   ],
   "source": [
    "param_grid = {\n",
    "    \"C\": np.logspace(-3, 3, 7),\n",
    "    \"gamma\": np.logspace(-3, 3, 7),\n",
    "    \"kernel\": [\"rbf\"],\n",
    "}\n",
    "\n",
    "random_search = RandomizedSearchCV(\n",
    "    estimator=svc,\n",
    "    param_distributions=param_grid,\n",
    "    n_iter=RS_N_ITER,\n",
    "    cv=CV,\n",
    "    random_state=SEED,\n",
    ")\n",
    "random_search.fit(X_train_scaled, y_train)\n",
    "\n",
    "print(\"Best hyperparameters:\", random_search.best_params_)\n",
    "\n",
    "test_accuracy = random_search.score(X_test_scaled, y_test)\n",
    "print(\"Test set accuracy:\", test_accuracy)"
   ]
  },
  {
   "cell_type": "code",
   "execution_count": 148,
   "metadata": {},
   "outputs": [
    {
     "name": "stdout",
     "output_type": "stream",
     "text": [
      "              precision    recall  f1-score   support\n",
      "\n",
      "           0       0.71      0.71      0.71        35\n",
      "           1       0.78      0.78      0.78        46\n",
      "\n",
      "    accuracy                           0.75        81\n",
      "   macro avg       0.75      0.75      0.75        81\n",
      "weighted avg       0.75      0.75      0.75        81\n",
      "\n"
     ]
    }
   ],
   "source": [
    "cv_preds = cross_val_predict(svc, X_train_scaled, y_train, cv=CV)\n",
    "report = classification_report(y_train, cv_preds)\n",
    "print(report)"
   ]
  },
  {
   "cell_type": "code",
   "execution_count": 149,
   "metadata": {},
   "outputs": [
    {
     "name": "stdout",
     "output_type": "stream",
     "text": [
      "              precision    recall  f1-score   support\n",
      "\n",
      "           0       0.83      0.56      0.67         9\n",
      "           1       0.73      0.92      0.81        12\n",
      "\n",
      "    accuracy                           0.76        21\n",
      "   macro avg       0.78      0.74      0.74        21\n",
      "weighted avg       0.78      0.76      0.75        21\n",
      "\n"
     ]
    }
   ],
   "source": [
    "svc = SVC(**random_search.best_params_)\n",
    "svc.fit(X_train_scaled, y_train)\n",
    "y_pred = svc.predict(X_test_scaled)\n",
    "report = classification_report(y_test, y_pred)\n",
    "print(report)"
   ]
  },
  {
   "cell_type": "markdown",
   "metadata": {},
   "source": [
    "#### Kernels Linear"
   ]
  },
  {
   "cell_type": "code",
   "execution_count": 150,
   "metadata": {},
   "outputs": [
    {
     "name": "stdout",
     "output_type": "stream",
     "text": [
      "Best hyperparameters: {'kernel': 'linear', 'gamma': 10.0, 'C': 0.001}\n",
      "Test set accuracy: 0.6666666666666666\n"
     ]
    }
   ],
   "source": [
    "svc = SVC()\n",
    "\n",
    "param_grid = {\n",
    "    \"C\": np.logspace(-3, 3, 7),\n",
    "    \"gamma\": np.logspace(-3, 3, 7),\n",
    "    \"kernel\": [\"linear\"],\n",
    "}\n",
    "\n",
    "random_search = RandomizedSearchCV(\n",
    "    estimator=svc,\n",
    "    param_distributions=param_grid,\n",
    "    n_iter=RS_N_ITER,\n",
    "    cv=CV,\n",
    "    random_state=SEED,\n",
    ")\n",
    "random_search.fit(X_train_scaled, y_train)\n",
    "\n",
    "print(\"Best hyperparameters:\", random_search.best_params_)\n",
    "\n",
    "test_accuracy = random_search.score(X_test_scaled, y_test)\n",
    "print(\"Test set accuracy:\", test_accuracy)"
   ]
  },
  {
   "cell_type": "code",
   "execution_count": 151,
   "metadata": {},
   "outputs": [
    {
     "name": "stdout",
     "output_type": "stream",
     "text": [
      "              precision    recall  f1-score   support\n",
      "\n",
      "           0       0.71      0.71      0.71        35\n",
      "           1       0.78      0.78      0.78        46\n",
      "\n",
      "    accuracy                           0.75        81\n",
      "   macro avg       0.75      0.75      0.75        81\n",
      "weighted avg       0.75      0.75      0.75        81\n",
      "\n"
     ]
    }
   ],
   "source": [
    "cv_preds = cross_val_predict(svc, X_train_scaled, y_train, cv=CV)\n",
    "report = classification_report(y_train, cv_preds)\n",
    "print(report)"
   ]
  },
  {
   "cell_type": "code",
   "execution_count": 152,
   "metadata": {},
   "outputs": [
    {
     "name": "stdout",
     "output_type": "stream",
     "text": [
      "              precision    recall  f1-score   support\n",
      "\n",
      "           0       0.58      0.78      0.67         9\n",
      "           1       0.78      0.58      0.67        12\n",
      "\n",
      "    accuracy                           0.67        21\n",
      "   macro avg       0.68      0.68      0.67        21\n",
      "weighted avg       0.69      0.67      0.67        21\n",
      "\n"
     ]
    }
   ],
   "source": [
    "svc = SVC(**random_search.best_params_)\n",
    "svc.fit(X_train_scaled, y_train)\n",
    "y_pred = svc.predict(X_test_scaled)\n",
    "report = classification_report(y_test, y_pred)\n",
    "print(report)"
   ]
  }
 ],
 "metadata": {
  "kernelspec": {
   "display_name": "usn-research",
   "language": "python",
   "name": "python3"
  },
  "language_info": {
   "codemirror_mode": {
    "name": "ipython",
    "version": 3
   },
   "file_extension": ".py",
   "mimetype": "text/x-python",
   "name": "python",
   "nbconvert_exporter": "python",
   "pygments_lexer": "ipython3",
   "version": "3.10.13"
  }
 },
 "nbformat": 4,
 "nbformat_minor": 2
}
