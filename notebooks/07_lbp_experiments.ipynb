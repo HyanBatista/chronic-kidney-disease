{
 "cells": [
  {
   "cell_type": "markdown",
   "metadata": {},
   "source": [
    "# Training"
   ]
  },
  {
   "cell_type": "code",
   "execution_count": 35,
   "metadata": {},
   "outputs": [],
   "source": [
    "import os\n",
    "\n",
    "DATASET_NAME = \"drsprg\"\n",
    "DATA_BASE_DIR = f\"../data/processed/{DATASET_NAME}/\"\n",
    "IMAGES_DIR = os.path.join(DATA_BASE_DIR, \"jpgs/\")\n",
    "LBP_DATASET = os.path.join(DATA_BASE_DIR, \"artifacts/lbp_dataset.pkl\")\n",
    "\n",
    "# Training related parameters\n",
    "SEED = 42\n",
    "TEST_SIZE = 0.2\n",
    "RS_N_ITER = 40\n",
    "CV = 20"
   ]
  },
  {
   "cell_type": "code",
   "execution_count": 74,
   "metadata": {},
   "outputs": [],
   "source": [
    "import warnings\n",
    "\n",
    "import joblib\n",
    "import numpy as np\n",
    "from scipy.stats import randint\n",
    "from sklearn.cluster import KMeans\n",
    "from sklearn.ensemble import RandomForestClassifier\n",
    "from sklearn.exceptions import UndefinedMetricWarning\n",
    "from sklearn.metrics import (\n",
    "    accuracy_score,\n",
    "    f1_score,\n",
    "    make_scorer,\n",
    "    precision_score,\n",
    "    recall_score,\n",
    ")\n",
    "from sklearn.model_selection import (\n",
    "    RandomizedSearchCV,\n",
    "    cross_val_score,\n",
    "    train_test_split,\n",
    ")\n",
    "from sklearn.preprocessing import StandardScaler\n",
    "from sklearn.svm import SVC\n",
    "from xgboost import XGBClassifier"
   ]
  },
  {
   "cell_type": "code",
   "execution_count": 67,
   "metadata": {},
   "outputs": [],
   "source": [
    "np.random.seed(SEED)"
   ]
  },
  {
   "cell_type": "code",
   "execution_count": 70,
   "metadata": {},
   "outputs": [],
   "source": [
    "warnings.filterwarnings(\"ignore\", category=UndefinedMetricWarning)"
   ]
  },
  {
   "cell_type": "markdown",
   "metadata": {},
   "source": [
    "## LBP"
   ]
  },
  {
   "cell_type": "code",
   "execution_count": 38,
   "metadata": {},
   "outputs": [],
   "source": [
    "lbp_dataset = joblib.load(LBP_DATASET)"
   ]
  },
  {
   "cell_type": "code",
   "execution_count": 39,
   "metadata": {},
   "outputs": [],
   "source": [
    "X = np.array([sample[0] for sample in lbp_dataset])\n",
    "y = np.array([sample[1] for sample in lbp_dataset])"
   ]
  },
  {
   "cell_type": "code",
   "execution_count": 40,
   "metadata": {},
   "outputs": [
    {
     "data": {
      "text/plain": [
       "((102, 1620), (102,))"
      ]
     },
     "execution_count": 40,
     "metadata": {},
     "output_type": "execute_result"
    }
   ],
   "source": [
    "X.shape, y.shape"
   ]
  },
  {
   "cell_type": "code",
   "execution_count": 41,
   "metadata": {},
   "outputs": [],
   "source": [
    "scaler = StandardScaler()\n",
    "X_scaled = scaler.fit_transform(X)"
   ]
  },
  {
   "cell_type": "markdown",
   "metadata": {},
   "source": [
    "### Supervised learning"
   ]
  },
  {
   "cell_type": "markdown",
   "metadata": {},
   "source": [
    "#### SVM"
   ]
  },
  {
   "cell_type": "code",
   "execution_count": 62,
   "metadata": {},
   "outputs": [],
   "source": [
    "def run(model, X, y, cv):\n",
    "    metrics = [\"precision\", \"recall\", \"f1\", \"accuracy\"]\n",
    "    _ = [\n",
    "        print(f\"{metric}: {cross_val_score(model, X, y, scoring=metric, cv=cv, error_score=np.nan).mean()}\")\n",
    "        for metric in metrics\n",
    "    ]"
   ]
  },
  {
   "cell_type": "markdown",
   "metadata": {},
   "source": [
    "##### Radial Basis Function (RBF)"
   ]
  },
  {
   "cell_type": "code",
   "execution_count": 63,
   "metadata": {},
   "outputs": [
    {
     "name": "stdout",
     "output_type": "stream",
     "text": [
      "precision: 0.8058333333333334\n",
      "recall: 0.8833333333333334\n",
      "f1: 0.8254761904761905\n",
      "accuracy: 0.785\n"
     ]
    }
   ],
   "source": [
    "rbf_svc = SVC(kernel=\"rbf\")\n",
    "run(rbf_svc, X_scaled, y, CV)"
   ]
  },
  {
   "cell_type": "markdown",
   "metadata": {},
   "source": [
    "##### Kernels Linear"
   ]
  },
  {
   "cell_type": "code",
   "execution_count": 44,
   "metadata": {},
   "outputs": [
    {
     "name": "stdout",
     "output_type": "stream",
     "text": [
      "precision: 0.8125\n",
      "recall: 0.7416666666666666\n",
      "f1: 0.7502380952380951\n",
      "accuracy: 0.7433333333333333\n"
     ]
    }
   ],
   "source": [
    "linear_svc = SVC(kernel=\"linear\")\n",
    "run(linear_svc, X_scaled, y, CV)"
   ]
  },
  {
   "cell_type": "markdown",
   "metadata": {},
   "source": [
    "#### Random Forest"
   ]
  },
  {
   "cell_type": "code",
   "execution_count": 45,
   "metadata": {},
   "outputs": [
    {
     "name": "stdout",
     "output_type": "stream",
     "text": [
      "precision: 0.7966666666666666\n",
      "recall: 0.9\n",
      "f1: 0.8479761904761904\n",
      "accuracy: 0.8233333333333333\n"
     ]
    }
   ],
   "source": [
    "rf = RandomForestClassifier()\n",
    "\n",
    "run(rf, X_scaled, y, CV)"
   ]
  },
  {
   "cell_type": "markdown",
   "metadata": {},
   "source": [
    "#### XGBoost"
   ]
  },
  {
   "cell_type": "code",
   "execution_count": 46,
   "metadata": {},
   "outputs": [
    {
     "name": "stdout",
     "output_type": "stream",
     "text": [
      "precision: 0.8458333333333332\n",
      "recall: 0.875\n",
      "f1: 0.8490476190476193\n",
      "accuracy: 0.8216666666666667\n"
     ]
    }
   ],
   "source": [
    "xgbc = XGBClassifier()\n",
    "run(xgbc, X_scaled, y, CV)"
   ]
  },
  {
   "cell_type": "markdown",
   "metadata": {},
   "source": [
    "### Unsupervised learning"
   ]
  },
  {
   "cell_type": "markdown",
   "metadata": {},
   "source": [
    "#### K-Means"
   ]
  },
  {
   "cell_type": "code",
   "execution_count": 71,
   "metadata": {},
   "outputs": [
    {
     "name": "stdout",
     "output_type": "stream",
     "text": [
      "precision: 0.595\n",
      "recall: 0.4774999999999999\n",
      "f1: 0.5075000000000001\n",
      "accuracy: 0.5650000000000002\n"
     ]
    }
   ],
   "source": [
    "n_clusters = len(np.unique(y))\n",
    "kmeans = KMeans(n_clusters=n_clusters, random_state=SEED)\n",
    "\n",
    "run(kmeans, X_scaled, y, CV)"
   ]
  }
 ],
 "metadata": {
  "kernelspec": {
   "display_name": "usn-research",
   "language": "python",
   "name": "python3"
  },
  "language_info": {
   "codemirror_mode": {
    "name": "ipython",
    "version": 3
   },
   "file_extension": ".py",
   "mimetype": "text/x-python",
   "name": "python",
   "nbconvert_exporter": "python",
   "pygments_lexer": "ipython3",
   "version": "3.10.13"
  }
 },
 "nbformat": 4,
 "nbformat_minor": 2
}
