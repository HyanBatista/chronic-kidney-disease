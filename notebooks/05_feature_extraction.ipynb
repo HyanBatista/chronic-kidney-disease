{
 "cells": [
  {
   "cell_type": "markdown",
   "metadata": {},
   "source": [
    "# Feature Extraction"
   ]
  },
  {
   "cell_type": "code",
   "execution_count": 1,
   "metadata": {},
   "outputs": [],
   "source": [
    "import os\n",
    "\n",
    "DATASET_NAME = \"drsprg\"\n",
    "DATA_BASE_DIR = f\"../data/processed/{DATASET_NAME}/\"\n",
    "IMAGES_DIR = os.path.join(DATA_BASE_DIR, \"jpgs/\")\n",
    "DATASET = os.path.join(DATA_BASE_DIR, \"data_list_export_120217.xlsx\")\n",
    "ARTIFACT = os.path.join(DATA_BASE_DIR, \"artifacts/avg_blurred_images.pkl\")"
   ]
  },
  {
   "cell_type": "code",
   "execution_count": null,
   "metadata": {},
   "outputs": [],
   "source": []
  }
 ],
 "metadata": {
  "kernelspec": {
   "display_name": "usn-research",
   "language": "python",
   "name": "python3"
  },
  "language_info": {
   "codemirror_mode": {
    "name": "ipython",
    "version": 3
   },
   "file_extension": ".py",
   "mimetype": "text/x-python",
   "name": "python",
   "nbconvert_exporter": "python",
   "pygments_lexer": "ipython3",
   "version": "3.10.13"
  }
 },
 "nbformat": 4,
 "nbformat_minor": 2
}
