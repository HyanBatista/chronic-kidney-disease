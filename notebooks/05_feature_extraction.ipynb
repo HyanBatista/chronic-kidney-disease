{
 "cells": [
  {
   "cell_type": "markdown",
   "metadata": {},
   "source": [
    "# Feature Extraction"
   ]
  },
  {
   "cell_type": "code",
   "execution_count": 1,
   "metadata": {},
   "outputs": [],
   "source": [
    "import os\n",
    "\n",
    "DATASET_NAME = \"drsprg\"\n",
    "DATA_BASE_DIR = f\"../data/processed/{DATASET_NAME}/\"\n",
    "IMAGES_DIR = os.path.join(DATA_BASE_DIR, \"jpgs/\")\n",
    "DATASET = os.path.join(DATA_BASE_DIR, \"data_list_export_120217.xlsx\")\n",
    "AVG_BLURRED_IMAGES = os.path.join(DATA_BASE_DIR, \"artifacts/avg_blurred_images.pkl\")\n",
    "PREP_STUDIES = os.path.join(DATA_BASE_DIR, \"artifacts/prep_studies.pkl\")"
   ]
  },
  {
   "cell_type": "code",
   "execution_count": 29,
   "metadata": {},
   "outputs": [],
   "source": [
    "import cv2\n",
    "import joblib\n",
    "import matplotlib.pyplot as plt\n",
    "import numpy as np\n",
    "import skimage\n",
    "from tqdm import tqdm\n",
    "from pathlib import Path"
   ]
  },
  {
   "cell_type": "markdown",
   "metadata": {},
   "source": [
    "## Local Binary Patterns"
   ]
  },
  {
   "cell_type": "code",
   "execution_count": 3,
   "metadata": {},
   "outputs": [],
   "source": [
    "avg_blurred_images = joblib.load(AVG_BLURRED_IMAGES)\n",
    "prep_studies = joblib.load(PREP_STUDIES)"
   ]
  },
  {
   "cell_type": "code",
   "execution_count": 4,
   "metadata": {},
   "outputs": [
    {
     "data": {
      "image/png": "[encoded data removed]",
      "text/plain": [
       "<Figure size 300x200 with 1 Axes>"
      ]
     },
     "metadata": {},
     "output_type": "display_data"
    }
   ],
   "source": [
    "avg_img = avg_blurred_images[0][0]\n",
    "plt.figure(figsize=(3, 2))\n",
    "plt.imshow(avg_img)\n",
    "plt.title(\"Average Scintigraphy Image\")\n",
    "plt.axis(\"off\")\n",
    "plt.savefig(\"../images/averaging.pdf\")\n",
    "plt.show()"
   ]
  },
  {
   "cell_type": "code",
   "execution_count": 39,
   "metadata": {},
   "outputs": [
    {
     "name": "stdout",
     "output_type": "stream",
     "text": [
      "Feature vector length 108\n"
     ]
    },
    {
     "data": {
      "image/png": "[encoded data removed]",
      "text/plain": [
       "<Figure size 300x200 with 1 Axes>"
      ]
     },
     "metadata": {},
     "output_type": "display_data"
    }
   ],
   "source": [
    "def extract_features__lbp(images: list, radius=1, sampling_pixels=106):\n",
    "    def get_lbp(img):\n",
    "        lbp = skimage.feature.local_binary_pattern(\n",
    "            img, sampling_pixels, radius, method=\"uniform\"\n",
    "        )\n",
    "        return (img, lbp)\n",
    "\n",
    "    def get_hist(img_lbp):\n",
    "        img, lbp = img_lbp\n",
    "        hist, _ = np.histogram(\n",
    "            lbp.ravel(),\n",
    "            bins=np.arange(0, sampling_pixels + 3),\n",
    "            range=(0, sampling_pixels + 2),\n",
    "        )\n",
    "        hist = hist.astype(\"float\")\n",
    "        hist /= hist.sum() + 1e-6\n",
    "        return img, hist\n",
    "\n",
    "    def cvt(img):\n",
    "        if len(img.shape) > 2:\n",
    "            img = cv2.cvtColor(img, cv2.COLOR_BGR2GRAY)\n",
    "            _, img = cv2.threshold(img, 0, 255, cv2.THRESH_BINARY + cv2.THRESH_OTSU)\n",
    "        \n",
    "        i_min = np.min(img)\n",
    "        i_max = np.max(img)\n",
    "        if i_max - i_min != 0:\n",
    "            img = (img - i_min) / (i_max - i_min)\n",
    "\n",
    "        img = img.astype(np.uint8)\n",
    "\n",
    "        return img\n",
    "\n",
    "    cvt_imgs = [cvt(img) for img in images]\n",
    "    imgs_lbps = [get_lbp(img) for img in cvt_imgs]\n",
    "    imgs_hists = [get_hist(img_lbp) for img_lbp in imgs_lbps]\n",
    "    return imgs_hists\n",
    "\n",
    "\n",
    "imgs_hists = extract_features__lbp([avg_img])[0]\n",
    "print(\"Feature vector length\", len(imgs_hists[1]))\n",
    "plt.figure(figsize=(3, 2))\n",
    "plt.imshow(imgs_hists[0], cmap=\"gray\")\n",
    "plt.axis(\"off\")\n",
    "plt.savefig(\"../images/binarization.pdf\")\n",
    "plt.show()"
   ]
  },
  {
   "cell_type": "code",
   "execution_count": 35,
   "metadata": {},
   "outputs": [
    {
     "name": "stderr",
     "output_type": "stream",
     "text": [
      "100%|██████████| 102/102 [00:44<00:00,  2.31it/s]\n"
     ]
    }
   ],
   "source": [
    "def ext_features_from_study_images(prep_studies):\n",
    "    lbp_dataset = []\n",
    "    for study in tqdm(prep_studies):\n",
    "        label = study[1]\n",
    "        imgs = [img[0] for img in study[0]]\n",
    "        imgs_hists = extract_features__lbp(imgs)\n",
    "        hists = [img_hist[1] for img_hist in imgs_hists]\n",
    "        features = []\n",
    "        for h in hists:\n",
    "            features.extend(h)\n",
    "        assert len(features) == 1620\n",
    "        lbp_dataset.append((features, label))\n",
    "    return lbp_dataset\n",
    "\n",
    "lbp_dataset = ext_features_from_study_images(prep_studies)"
   ]
  },
  {
   "cell_type": "code",
   "execution_count": 36,
   "metadata": {},
   "outputs": [
    {
     "data": {
      "text/plain": [
       "['../data/processed/drsprg/artifacts/lbp_dataset.pkl']"
      ]
     },
     "execution_count": 36,
     "metadata": {},
     "output_type": "execute_result"
    }
   ],
   "source": [
    "save_to = Path(os.path.join(DATA_BASE_DIR, \"artifacts/lbp_dataset.pkl\"))\n",
    "save_to.parent.mkdir(parents=True, exist_ok=True)\n",
    "joblib.dump(lbp_dataset, str(save_to))"
   ]
  }
 ],
 "metadata": {
  "kernelspec": {
   "display_name": "usn-research",
   "language": "python",
   "name": "python3"
  },
  "language_info": {
   "codemirror_mode": {
    "name": "ipython",
    "version": 3
   },
   "file_extension": ".py",
   "mimetype": "text/x-python",
   "name": "python",
   "nbconvert_exporter": "python",
   "pygments_lexer": "ipython3",
   "version": "3.10.13"
  }
 },
 "nbformat": 4,
 "nbformat_minor": 2
}
